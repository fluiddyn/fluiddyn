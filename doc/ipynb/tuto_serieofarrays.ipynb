{
 "cells": [
  {
   "cell_type": "markdown",
   "metadata": {},
   "source": [
    "# Serieofarrays"
   ]
  },
  {
   "cell_type": "raw",
   "metadata": {},
   "source": [
    "This notebook focuses on demonstrating how the classes :class:`fluiddyn.util.serieofarrays.SeriesOfArrays` can be used. \n",
    "\n",
    "This class can be used to create subsets from series of files. Let's first import it:"
   ]
  },
  {
   "cell_type": "code",
   "execution_count": null,
   "metadata": {},
   "outputs": [],
   "source": [
    "from fluiddyn.util.serieofarrays import SeriesOfArrays"
   ]
  },
  {
   "cell_type": "markdown",
   "metadata": {},
   "source": [
    "This class works with a serie of files (or a file containing a serie of arrays) so we first need to create files. For this demo, we just create emtpy files."
   ]
  },
  {
   "cell_type": "code",
   "execution_count": null,
   "metadata": {},
   "outputs": [],
   "source": [
    "import tempfile\n",
    "from pathlib import Path\n",
    "from shutil import rmtree\n",
    "from pprint import pprint"
   ]
  },
  {
   "cell_type": "code",
   "execution_count": null,
   "metadata": {},
   "outputs": [],
   "source": [
    "path_dir = Path(tempfile.mkdtemp('_singleframe'))\n",
    "\n",
    "for i0 in range(6):\n",
    "    with open(path_dir / f'image{i0}.png', 'w') as f:\n",
    "        pass\n",
    "    \n",
    "print([p.name for p in path_dir.rglob(\"*\")])"
   ]
  },
  {
   "cell_type": "markdown",
   "metadata": {},
   "source": [
    "We write a simple function to print the subsets of files that we are going to create..."
   ]
  },
  {
   "cell_type": "code",
   "execution_count": null,
   "metadata": {},
   "outputs": [],
   "source": [
    "def print_subsets(series):\n",
    "    for serie in series:\n",
    "        print('(', end='')\n",
    "        for name in serie.iter_name_files():\n",
    "            print(name, end=', ')\n",
    "        print(')')"
   ]
  },
  {
   "cell_type": "markdown",
   "metadata": {},
   "source": [
    "We show that we can create many different subsets quite easily:"
   ]
  },
  {
   "cell_type": "code",
   "execution_count": null,
   "metadata": {},
   "outputs": [],
   "source": [
    "series = SeriesOfArrays(path_dir / 'im*', 'i:i+2')\n",
    "print_subsets(series)"
   ]
  },
  {
   "cell_type": "code",
   "execution_count": null,
   "metadata": {},
   "outputs": [],
   "source": [
    "series = SeriesOfArrays(path_dir / 'im*', 'i:i+2', ind_step=2)\n",
    "print_subsets(series)"
   ]
  },
  {
   "cell_type": "code",
   "execution_count": null,
   "metadata": {},
   "outputs": [],
   "source": [
    "series = SeriesOfArrays(path_dir / 'im*', 'i:i+3', ind_stop=3)\n",
    "print_subsets(series)"
   ]
  },
  {
   "cell_type": "code",
   "execution_count": null,
   "metadata": {},
   "outputs": [],
   "source": [
    "series = SeriesOfArrays(path_dir / 'im*', 'i:i+3:2')\n",
    "print_subsets(series)"
   ]
  },
  {
   "cell_type": "code",
   "execution_count": null,
   "metadata": {},
   "outputs": [],
   "source": [
    "rmtree(path_dir, ignore_errors=True)"
   ]
  },
  {
   "cell_type": "markdown",
   "metadata": {},
   "source": [
    "Let's consider another serie of files this time with two indices:"
   ]
  },
  {
   "cell_type": "code",
   "execution_count": null,
   "metadata": {},
   "outputs": [],
   "source": [
    "path_dir = Path(tempfile.mkdtemp('_doubleframe'))\n",
    "\n",
    "for i0 in range(3):\n",
    "    with open(path_dir / f'im_{i0}a.png', 'w') as f:\n",
    "        pass\n",
    "    with open(path_dir / f'im_{i0}b.png', 'w') as f:\n",
    "        pass\n",
    "    \n",
    "print([p.name for p in path_dir.rglob(\"*\")])"
   ]
  },
  {
   "cell_type": "markdown",
   "metadata": {},
   "source": [
    "Creating subsets of files is still very simple:"
   ]
  },
  {
   "cell_type": "code",
   "execution_count": null,
   "metadata": {},
   "outputs": [],
   "source": [
    "series = SeriesOfArrays(path_dir / 'im*', 'i, 0:2')\n",
    "print_subsets(series)"
   ]
  },
  {
   "cell_type": "code",
   "execution_count": null,
   "metadata": {},
   "outputs": [],
   "source": [
    "series = SeriesOfArrays(path_dir / 'im*', '0:2, i')\n",
    "print_subsets(series)"
   ]
  },
  {
   "cell_type": "markdown",
   "metadata": {},
   "source": [
    "Of course we can do many more things with these objects:"
   ]
  },
  {
   "cell_type": "code",
   "execution_count": null,
   "metadata": {},
   "outputs": [],
   "source": [
    "pprint([name for name in dir(series) if not name.startswith('__')])"
   ]
  },
  {
   "cell_type": "code",
   "execution_count": null,
   "metadata": {},
   "outputs": [],
   "source": [
    "pprint([name for name in dir(series.serie) if not name.startswith('__')])"
   ]
  },
  {
   "cell_type": "code",
   "execution_count": null,
   "metadata": {},
   "outputs": [],
   "source": [
    "rmtree(path_dir, ignore_errors=True)"
   ]
  },
  {
   "cell_type": "raw",
   "metadata": {},
   "source": [
    "For the documentation on these methods, see the presentation of the API of the module :mod:`fluiddyn.util.serieofarrays`."
   ]
  }
 ],
 "metadata": {
  "kernelspec": {
   "display_name": "Python 3 (ipykernel)",
   "language": "python",
   "name": "python3"
  },
  "language_info": {
   "codemirror_mode": {
    "name": "ipython",
    "version": 3
   },
   "file_extension": ".py",
   "mimetype": "text/x-python",
   "name": "python",
   "nbconvert_exporter": "python",
   "pygments_lexer": "ipython3",
   "version": "3.9.6"
  }
 },
 "nbformat": 4,
 "nbformat_minor": 4
}
