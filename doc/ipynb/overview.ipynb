{
 "cells": [
  {
   "cell_type": "code",
   "execution_count": null,
   "metadata": {},
   "outputs": [],
   "source": [
    "from fluiddoc import mock_modules\n",
    "\n",
    "mock_modules(('nbstripout', 'scipy', 'scipy.fftpack', 'scipy.interpolate',\n",
    "              'skimage', 'skimage.io'))"
   ]
  },
  {
   "cell_type": "markdown",
   "metadata": {},
   "source": [
    "# Main features of the fluiddyn package\n",
    "\n",
    "We here give an overview of the main features of the package. Fluiddyn contains pure python code useful when developing and using fluiddyn packages. It is like the Ali Baba's cave of the fluiddyn project. Here, we just show typical import commands and point towards pages in the documentation.\n",
    "\n",
    "Just importing the main package can be useful:"
   ]
  },
  {
   "cell_type": "code",
   "execution_count": null,
   "metadata": {},
   "outputs": [],
   "source": [
    "import fluiddyn as fld"
   ]
  },
  {
   "cell_type": "code",
   "execution_count": null,
   "metadata": {},
   "outputs": [],
   "source": [
    "fld.constants.g"
   ]
  },
  {
   "cell_type": "code",
   "execution_count": null,
   "metadata": {},
   "outputs": [],
   "source": [
    "fld.time_as_str()"
   ]
  },
  {
   "cell_type": "code",
   "execution_count": null,
   "metadata": {},
   "outputs": [],
   "source": [
    "fld.get_memory_usage()"
   ]
  },
  {
   "cell_type": "code",
   "execution_count": null,
   "metadata": {},
   "outputs": [],
   "source": [
    "fld.ipydebug"
   ]
  },
  {
   "cell_type": "raw",
   "metadata": {},
   "source": [
    "is a function to debug code with ipython (simpler than with pdb or ipdb):"
   ]
  },
  {
   "cell_type": "markdown",
   "metadata": {},
   "source": [
    "## Subpackage `fluiddyn.output`"
   ]
  },
  {
   "cell_type": "raw",
   "metadata": {},
   "source": [
    "The subpackage :mod:`fluiddyn.output` (\"scientific outputs\" like figures and movies) uses (and imports) matplotlib."
   ]
  },
  {
   "cell_type": "code",
   "execution_count": null,
   "metadata": {},
   "outputs": [],
   "source": [
    "from fluiddyn.output import show, set_rcparams, gradient_colors"
   ]
  },
  {
   "cell_type": "markdown",
   "metadata": {},
   "source": [
    "## Subpackage `fluiddyn.io`"
   ]
  },
  {
   "cell_type": "raw",
   "metadata": {},
   "source": [
    "The subpackage :mod:`fluiddyn.io` (\"input/output\") contains modules to save and load data in many formats:"
   ]
  },
  {
   "cell_type": "code",
   "execution_count": null,
   "metadata": {},
   "outputs": [],
   "source": [
    "from fluiddyn.io import (\n",
    "    binary, txt, mycsv, hdf5, digiflow, dantec, davis, multitiff, in_py, image)"
   ]
  },
  {
   "cell_type": "code",
   "execution_count": null,
   "metadata": {},
   "outputs": [],
   "source": [
    "from fluiddyn.io.query import query_yes_no, query, query_number\n",
    "from fluiddyn.io.tee import MultiFile"
   ]
  },
  {
   "cell_type": "markdown",
   "metadata": {},
   "source": [
    "There is also a function to disable the standard output which we use a lot in unittests."
   ]
  },
  {
   "cell_type": "code",
   "execution_count": null,
   "metadata": {},
   "outputs": [],
   "source": [
    "from fluiddyn.io import stdout_redirected"
   ]
  },
  {
   "cell_type": "markdown",
   "metadata": {},
   "source": [
    "### fluiddump\n",
    "This package also contains the code of a very simple utility to dump hdf5 and netcdf files (without dependency in the netcdf library and in the program `h5dump`)"
   ]
  },
  {
   "cell_type": "code",
   "execution_count": null,
   "metadata": {},
   "outputs": [],
   "source": [
    "from fluiddyn.io.dump import dump_h5_file, dump_nc_file"
   ]
  },
  {
   "cell_type": "code",
   "execution_count": null,
   "metadata": {},
   "outputs": [],
   "source": [
    "! fluiddump -h"
   ]
  },
  {
   "cell_type": "markdown",
   "metadata": {},
   "source": [
    "## Subpackage `fluiddyn.util`"
   ]
  },
  {
   "cell_type": "raw",
   "metadata": {},
   "source": [
    "The subpackage :mod:`fluiddyn.util` contains functions and modules to do very different things:"
   ]
  },
  {
   "cell_type": "code",
   "execution_count": null,
   "metadata": {},
   "outputs": [],
   "source": [
    "from fluiddyn.util import (\n",
    "    time_as_str, get_memory_usage, print_memory_usage,\n",
    "    import_class, is_run_from_ipython)\n",
    "\n",
    "# very simple use of mpi (no dependency on mpi4py if the process is run without mpi)\n",
    "from fluiddyn.util import mpi\n",
    "\n",
    "# storing parameters\n",
    "from fluiddyn.util.paramcontainer import ParamContainer\n",
    "from fluiddyn.util.paramcontainer_gui import QtParamContainer\n",
    "\n",
    "# handling series of arrays in files\n",
    "from fluiddyn.util.serieofarrays import SerieOfArraysFromFiles, SeriesOfArrays\n",
    "\n",
    "# \"tickers\"\n",
    "from fluiddyn.util.timer import Timer, TimerIrregular\n",
    "\n",
    "# daemon\n",
    "from fluiddyn.util.daemons import DaemonThread, DaemonProcess\n",
    "\n",
    "# emails\n",
    "from fluiddyn.util import mail\n",
    "\n",
    "# matlab to py (command line utility fluidmat2py)\n",
    "from fluiddyn.util.matlab2py import cleanmat, mat2wrongpy"
   ]
  },
  {
   "cell_type": "markdown",
   "metadata": {},
   "source": [
    "### Logging"
   ]
  },
  {
   "cell_type": "code",
   "execution_count": null,
   "metadata": {},
   "outputs": [],
   "source": [
    "from fluiddyn.util.logger import Logger\n",
    "from fluiddyn.util import terminal_colors\n",
    "from fluiddyn.util import config_logging\n",
    "\n",
    "from fluiddyn.util.terminal_colors import cprint\n",
    "cprint(\"RED\", color=\"RED\")\n",
    "cprint.cyan(\"cyan\")\n",
    "cprint.light_blue(\"bold light blue\", bold=True)"
   ]
  },
  {
   "cell_type": "markdown",
   "metadata": {},
   "source": [
    "### fluidinfo: gather information on your Python environment"
   ]
  },
  {
   "cell_type": "code",
   "execution_count": null,
   "metadata": {},
   "outputs": [],
   "source": [
    "from fluiddyn.util import info"
   ]
  },
  {
   "cell_type": "code",
   "execution_count": null,
   "metadata": {},
   "outputs": [],
   "source": [
    "!fluidinfo -h"
   ]
  },
  {
   "cell_type": "markdown",
   "metadata": {},
   "source": [
    "## Subpackage `fluiddyn.calcul`"
   ]
  },
  {
   "cell_type": "raw",
   "metadata": {},
   "source": [
    "The subpackage :mod:`fluiddyn.calcul` provides helpers for simple numerical computing."
   ]
  },
  {
   "cell_type": "code",
   "execution_count": null,
   "metadata": {},
   "outputs": [],
   "source": [
    "from fluiddyn.calcul import easypyfft"
   ]
  },
  {
   "cell_type": "code",
   "execution_count": null,
   "metadata": {},
   "outputs": [],
   "source": [
    "from fluiddyn.calcul import sphericalharmo"
   ]
  },
  {
   "cell_type": "code",
   "execution_count": null,
   "metadata": {},
   "outputs": [],
   "source": [
    "from fluiddyn.calcul import signal"
   ]
  },
  {
   "cell_type": "code",
   "execution_count": null,
   "metadata": {},
   "outputs": [],
   "source": [
    "from fluiddyn.calcul.setofvariables import SetOfVariables"
   ]
  },
  {
   "cell_type": "markdown",
   "metadata": {},
   "source": [
    "## Subpackage `fluiddyn.clusters`"
   ]
  },
  {
   "cell_type": "raw",
   "metadata": {},
   "source": [
    "The subpackage :mod:`fluiddyn.clusters` provides classes helping to use computer clusters."
   ]
  },
  {
   "cell_type": "code",
   "execution_count": null,
   "metadata": {},
   "outputs": [],
   "source": [
    "from fluiddyn.clusters.legi import Calcul8 as Cluster\n",
    "Cluster.print_doc_commands()"
   ]
  },
  {
   "cell_type": "code",
   "execution_count": null,
   "metadata": {},
   "outputs": [],
   "source": [
    "from fluiddyn.clusters.cines import Occigen as Cluster\n",
    "Cluster.print_doc_commands()"
   ]
  },
  {
   "cell_type": "markdown",
   "metadata": {},
   "source": [
    "## Package `fluiddoc`: helping to build nice web documentations"
   ]
  },
  {
   "cell_type": "code",
   "execution_count": null,
   "metadata": {},
   "outputs": [],
   "source": [
    "import fluiddoc\n",
    "print(fluiddoc.on_rtd)"
   ]
  },
  {
   "cell_type": "code",
   "execution_count": null,
   "metadata": {},
   "outputs": [],
   "source": [
    "fluiddoc.mock_modules"
   ]
  },
  {
   "cell_type": "code",
   "execution_count": null,
   "metadata": {},
   "outputs": [],
   "source": [
    "from fluiddoc.ipynb_maker import ipynb_to_rst"
   ]
  }
 ],
 "metadata": {
  "kernelspec": {
   "display_name": "Python 3",
   "language": "python",
   "name": "python3"
  },
  "language_info": {
   "codemirror_mode": {
    "name": "ipython",
    "version": 3
   },
   "file_extension": ".py",
   "mimetype": "text/x-python",
   "name": "python",
   "nbconvert_exporter": "python",
   "pygments_lexer": "ipython3",
   "version": "3.7.2"
  }
 },
 "nbformat": 4,
 "nbformat_minor": 4
}
