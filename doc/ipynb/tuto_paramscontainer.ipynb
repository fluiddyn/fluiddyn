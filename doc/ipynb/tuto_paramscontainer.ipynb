{
 "cells": [
  {
   "cell_type": "markdown",
   "metadata": {},
   "source": [
    "# Paramcontainer"
   ]
  },
  {
   "cell_type": "raw",
   "metadata": {},
   "source": [
    "This notebook shows how the class :class:`fluiddyn.util.paramcontainer.ParamContainer` can be used. "
   ]
  },
  {
   "cell_type": "code",
   "execution_count": 1,
   "metadata": {},
   "outputs": [],
   "source": [
    "from fluiddyn.util.paramcontainer import ParamContainer"
   ]
  },
  {
   "cell_type": "markdown",
   "metadata": {},
   "source": [
    "Let's consider code taken from fluidimage. The object containing the parameter is initialized in the package. It is first created empty:"
   ]
  },
  {
   "cell_type": "code",
   "execution_count": 2,
   "metadata": {},
   "outputs": [],
   "source": [
    "params = ParamContainer(tag='params')"
   ]
  },
  {
   "cell_type": "markdown",
   "metadata": {},
   "source": [
    "We then fill it with default parameters:"
   ]
  },
  {
   "cell_type": "code",
   "execution_count": 3,
   "metadata": {},
   "outputs": [],
   "source": [
    "# taken from fluidimage.work.piv.singlepass\n",
    "params._set_child('piv0', attribs={\n",
    "        'shape_crop_im0': 48,\n",
    "        'shape_crop_im1': None,\n",
    "        'displacement_max': None})\n",
    "\n",
    "params.piv0._set_doc(\"\"\"Parameters describing one PIV step.\"\"\")\n",
    "\n",
    "params.piv0._set_child('grid', attribs={\n",
    "    'overlap': 0.5,\n",
    "    'from': 'overlap'})\n",
    "\n",
    "params.piv0.grid._set_doc(\"\"\"\n",
    "Parameters describing the grid.\n",
    "\n",
    "overlap : float (0.5)\n",
    "    Number smaller than 1 defining the overlap between interrogation windows.\n",
    "\n",
    "from : str {'overlap'}\n",
    "    Keyword for the method from which is computed the grid.\n",
    "\"\"\")\n"
   ]
  },
  {
   "cell_type": "markdown",
   "metadata": {},
   "source": [
    "There are other functions to add attribute to a child:"
   ]
  },
  {
   "cell_type": "code",
   "execution_count": null,
   "metadata": {},
   "outputs": [],
   "source": [
    "params.piv0._set_attrib\n",
    "params.piv0._set_attribs"
   ]
  },
  {
   "cell_type": "markdown",
   "metadata": {},
   "source": [
    "The ParamContainer object can be used in the code to generate the documentation, as for example in this [page](http://fluidimage.readthedocs.io/en/latest/generated/fluidimage.topologies.piv.html)."
   ]
  },
  {
   "cell_type": "markdown",
   "metadata": {},
   "source": [
    "Then the user has to modify the default parameters in a python script. She/he can first create the object in ipython and play with it. The representation of the object shows the parameters and their values:"
   ]
  },
  {
   "cell_type": "code",
   "execution_count": 4,
   "metadata": {},
   "outputs": [
    {
     "data": {
      "text/plain": [
       "<fluiddyn.util.paramcontainer.ParamContainer object at 0x7f1449f83828>\n",
       "\n",
       "<piv0 displacement_max=\"None\" shape_crop_im0=\"48\" shape_crop_im1=\"None\">\n",
       "  <grid from=\"overlap\" overlap=\"0.5\"/>  \n",
       "\n",
       "</piv0>"
      ]
     },
     "execution_count": 4,
     "metadata": {},
     "output_type": "execute_result"
    }
   ],
   "source": [
    "params.piv0"
   ]
  },
  {
   "cell_type": "markdown",
   "metadata": {},
   "source": [
    "It is also easy to print the documentation (or part of the documentation):"
   ]
  },
  {
   "cell_type": "code",
   "execution_count": 6,
   "metadata": {},
   "outputs": [
    {
     "name": "stdout",
     "output_type": "stream",
     "text": [
      "Documentation for params.piv0\n",
      "-----------------------------\n",
      "\n",
      "Parameters describing one PIV step.\n",
      "\n"
     ]
    }
   ],
   "source": [
    "params.piv0._print_doc()"
   ]
  },
  {
   "cell_type": "code",
   "execution_count": 7,
   "metadata": {},
   "outputs": [
    {
     "name": "stdout",
     "output_type": "stream",
     "text": [
      "Documentation for params.piv0\n",
      "-----------------------------\n",
      "\n",
      "Parameters describing one PIV step.\n",
      "\n",
      "Documentation for params.piv0.grid\n",
      "~~~~~~~~~~~~~~~~~~~~~~~~~~~~~~~~~~\n",
      "\n",
      "Parameters describing the grid.\n",
      "\n",
      "overlap : float (0.5)\n",
      "    Number smaller than 1 defining the overlap between interrogation windows.\n",
      "\n",
      "from : str {'overlap'}\n",
      "    Keyword for the method from which is computed the grid.\n",
      "\n"
     ]
    }
   ],
   "source": [
    "params.piv0._print_docs()"
   ]
  },
  {
   "cell_type": "code",
   "execution_count": 15,
   "metadata": {},
   "outputs": [
    {
     "name": "stdout",
     "output_type": "stream",
     "text": [
      "Documentation for params.piv0.grid\n",
      "~~~~~~~~~~~~~~~~~~~~~~~~~~~~~~~~~~\n",
      "\n",
      "Parameters describing the grid.\n",
      "\n",
      "overlap : float (0.5)\n",
      "    Number smaller than 1 defining the overlap between interrogation windows.\n",
      "\n",
      "from : str {'overlap'}\n",
      "    Keyword for the method from which is computed the grid.\n",
      "\n"
     ]
    }
   ],
   "source": [
    "params.piv0.grid._print_docs()"
   ]
  },
  {
   "cell_type": "markdown",
   "metadata": {},
   "source": [
    "Modifying a value is as simple as"
   ]
  },
  {
   "cell_type": "code",
   "execution_count": 8,
   "metadata": {},
   "outputs": [],
   "source": [
    "params.piv0.grid.overlap = 0.2"
   ]
  },
  {
   "cell_type": "code",
   "execution_count": 11,
   "metadata": {},
   "outputs": [
    {
     "data": {
      "text/plain": [
       "<fluiddyn.util.paramcontainer.ParamContainer object at 0x7f1449f83898>\n",
       "\n",
       "<grid from=\"overlap\" overlap=\"0.2\"/>  "
      ]
     },
     "execution_count": 11,
     "metadata": {},
     "output_type": "execute_result"
    }
   ],
   "source": [
    "params.piv0.grid"
   ]
  },
  {
   "cell_type": "markdown",
   "metadata": {},
   "source": [
    "A spelling mistake is clearly annonced by a AttributeError:"
   ]
  },
  {
   "cell_type": "code",
   "execution_count": 17,
   "metadata": {},
   "outputs": [
    {
     "name": "stdout",
     "output_type": "stream",
     "text": [
      "overlqp is not already set in grid.\n",
      "The attributes are: ['from', 'overlap']\n",
      "To set a new attribute, use _set_attrib or _set_attribs.\n"
     ]
    }
   ],
   "source": [
    "try:\n",
    "    params.piv0.grid.overlqp = 0.2\n",
    "except AttributeError as e:\n",
    "    print(e)"
   ]
  }
 ],
 "metadata": {
  "kernelspec": {
   "display_name": "Python 3",
   "language": "python",
   "name": "python3"
  },
  "language_info": {
   "codemirror_mode": {
    "name": "ipython",
    "version": 3
   },
   "file_extension": ".py",
   "mimetype": "text/x-python",
   "name": "python",
   "nbconvert_exporter": "python",
   "pygments_lexer": "ipython3",
   "version": "3.6.4"
  }
 },
 "nbformat": 4,
 "nbformat_minor": 2
}
