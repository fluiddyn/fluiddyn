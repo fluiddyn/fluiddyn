{
 "cells": [
  {
   "cell_type": "markdown",
   "metadata": {},
   "source": [
    "# Timer"
   ]
  },
  {
   "cell_type": "raw",
   "metadata": {},
   "source": [
    "This notebook demonstrates how the classes :class:`fluiddyn.util.timer.Timer` and :class:`fluiddyn.util.timer.TimerIrregular` can be used to loop with controled times.\n",
    "\n",
    "We import the 2 classes:"
   ]
  },
  {
   "cell_type": "code",
   "execution_count": null,
   "metadata": {},
   "outputs": [],
   "source": [
    "from fluiddyn.util.timer import Timer, TimerIrregular"
   ]
  },
  {
   "cell_type": "markdown",
   "metadata": {},
   "source": [
    "Let's first use the regular timer:"
   ]
  },
  {
   "cell_type": "code",
   "execution_count": null,
   "metadata": {},
   "outputs": [],
   "source": [
    "timer = Timer(0.02)\n",
    "\n",
    "for i in range(10):\n",
    "    print(f'before tick {i}... ', end='')\n",
    "    timer.wait_tick()\n",
    "    print(\"It's time to tick\", i)\n"
   ]
  },
  {
   "cell_type": "markdown",
   "metadata": {},
   "source": [
    "Ok. This is the simplest way to use it. But we don't see when the timer ticked. Let's print these times:"
   ]
  },
  {
   "cell_type": "code",
   "execution_count": null,
   "metadata": {},
   "outputs": [],
   "source": [
    "timer = Timer(0.02)\n",
    "\n",
    "for i in range(10):\n",
    "    print(f'before tick {i}... ', end='')\n",
    "    t_tick = timer.wait_tick()\n",
    "    print(\"It's time to tick\", i, f'(t = {t_tick:.4f} s)')"
   ]
  },
  {
   "cell_type": "markdown",
   "metadata": {},
   "source": [
    "Now, we see that it's ticking regularly... and it seems with a quite good accuracy for many needs.\n",
    "\n",
    "But what can we do if we need irregular steps between the ticks?"
   ]
  },
  {
   "cell_type": "code",
   "execution_count": null,
   "metadata": {},
   "outputs": [],
   "source": [
    "times = [0, 0.05, 0.07, 0.1]\n",
    "timer = TimerIrregular(times)\n",
    "\n",
    "for i in range(len(times)-1):\n",
    "    print(f'before tick {i}... ', end='')\n",
    "    t_tick = timer.wait_tick()\n",
    "    print(\"It's time to tick\", i, f'(t = {t_tick:.4f} s)')"
   ]
  }
 ],
 "metadata": {
  "kernelspec": {
   "display_name": "Python 3",
   "language": "python",
   "name": "python3"
  },
  "language_info": {
   "codemirror_mode": {
    "name": "ipython",
    "version": 3
   },
   "file_extension": ".py",
   "mimetype": "text/x-python",
   "name": "python",
   "nbconvert_exporter": "python",
   "pygments_lexer": "ipython3",
   "version": "3.6.4"
  }
 },
 "nbformat": 4,
 "nbformat_minor": 2
}
